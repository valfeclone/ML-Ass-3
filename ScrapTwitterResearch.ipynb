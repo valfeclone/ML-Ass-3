{
  "nbformat": 4,
  "nbformat_minor": 0,
  "metadata": {
    "colab": {
      "name": "ScrapTwitterResearch.ipynb",
      "provenance": [],
      "collapsed_sections": [],
      "authorship_tag": "ABX9TyPXDI/C8OLWhNR/XaGLNLn9",
      "include_colab_link": true
    },
    "kernelspec": {
      "display_name": "Python 3",
      "name": "python3"
    },
    "language_info": {
      "name": "python"
    }
  },
  "cells": [
    {
      "cell_type": "markdown",
      "metadata": {
        "id": "view-in-github",
        "colab_type": "text"
      },
      "source": [
        "<a href=\"https://colab.research.google.com/github/valfeclone/ML-Ass-3/blob/main/ScrapTwitterResearch.ipynb\" target=\"_parent\"><img src=\"https://colab.research.google.com/assets/colab-badge.svg\" alt=\"Open In Colab\"/></a>"
      ]
    },
    {
      "cell_type": "code",
      "metadata": {
        "colab": {
          "base_uri": "https://localhost:8080/"
        },
        "id": "SGw8s7E46yu6",
        "outputId": "efc5156f-efac-45e0-c161-27618c25610b"
      },
      "source": [
        "pip install tweepy"
      ],
      "execution_count": 1,
      "outputs": [
        {
          "output_type": "stream",
          "text": [
            "Requirement already satisfied: tweepy in /usr/local/lib/python3.7/dist-packages (3.10.0)\n",
            "Requirement already satisfied: six>=1.10.0 in /usr/local/lib/python3.7/dist-packages (from tweepy) (1.15.0)\n",
            "Requirement already satisfied: requests-oauthlib>=0.7.0 in /usr/local/lib/python3.7/dist-packages (from tweepy) (1.3.0)\n",
            "Requirement already satisfied: requests[socks]>=2.11.1 in /usr/local/lib/python3.7/dist-packages (from tweepy) (2.23.0)\n",
            "Requirement already satisfied: oauthlib>=3.0.0 in /usr/local/lib/python3.7/dist-packages (from requests-oauthlib>=0.7.0->tweepy) (3.1.0)\n",
            "Requirement already satisfied: certifi>=2017.4.17 in /usr/local/lib/python3.7/dist-packages (from requests[socks]>=2.11.1->tweepy) (2020.12.5)\n",
            "Requirement already satisfied: idna<3,>=2.5 in /usr/local/lib/python3.7/dist-packages (from requests[socks]>=2.11.1->tweepy) (2.10)\n",
            "Requirement already satisfied: chardet<4,>=3.0.2 in /usr/local/lib/python3.7/dist-packages (from requests[socks]>=2.11.1->tweepy) (3.0.4)\n",
            "Requirement already satisfied: urllib3!=1.25.0,!=1.25.1,<1.26,>=1.21.1 in /usr/local/lib/python3.7/dist-packages (from requests[socks]>=2.11.1->tweepy) (1.24.3)\n",
            "Requirement already satisfied: PySocks!=1.5.7,>=1.5.6; extra == \"socks\" in /usr/local/lib/python3.7/dist-packages (from requests[socks]>=2.11.1->tweepy) (1.7.1)\n"
          ],
          "name": "stdout"
        }
      ]
    },
    {
      "cell_type": "code",
      "metadata": {
        "id": "kmd9dfQl85XI"
      },
      "source": [
        "import tweepy\n",
        "import json\n",
        "import csv\n",
        "import pandas as pd\n",
        "from datetime import timedelta\n",
        "\n",
        "# Authenticate Token\n",
        "# cell 4 5 harus dirun keduanya ya\n",
        "auth = tweepy.OAuthHandler(\"KD8NW5hyiGCIhwp4JDJ98pgXh\", \"SQeokZiYEb5nqWiRMzwRIWF2QQyeBANeHvyfYg3BjenCp2T5vV\")\n",
        "auth.set_access_token(\"93126766-LZ166ZBBYttZ4JM5WKg9cLLBq0eoJyA0QJwq7l30V\", \"BlyNL7pReqLDQx0uWjNkMeXlg4w2j2U7cFFpPE1ATy29X\")\n",
        "api = tweepy.API(auth)"
      ],
      "execution_count": 2,
      "outputs": []
    },
    {
      "cell_type": "code",
      "metadata": {
        "id": "oxnrXyuo9DL4"
      },
      "source": [
        "#to scrap recent tweet dari user\n",
        "tweets = api.user_timeline(screen_name='Anyaselalubenar', \n",
        "                           # 200 is the maximum allowed count\n",
        "                           count=2000,\n",
        "                           include_rts = False,\n",
        "                           # Necessary to keep full_text \n",
        "                           # otherwise only the first 140 words are extracted\n",
        "                           tweet_mode = 'extended'\n",
        "                           )"
      ],
      "execution_count": 3,
      "outputs": []
    },
    {
      "cell_type": "code",
      "metadata": {
        "colab": {
          "base_uri": "https://localhost:8080/"
        },
        "id": "bwrj1P7I4D1C",
        "outputId": "1d33ab05-1075-4554-966d-dfc27029317a"
      },
      "source": [
        "#to scrap all tweet dari user\n",
        "all_tweets = []\n",
        "all_tweets.extend(tweets)\n",
        "oldest_id = tweets[-1].id\n",
        "while True:\n",
        "    tweets = api.user_timeline(screen_name='Anyaselalubenar', #ganti jadi uname twitternya\n",
        "                           # 200 is the maximum allowed count\n",
        "                           count=200,\n",
        "                           include_rts = False,\n",
        "                           max_id = oldest_id - 1,\n",
        "                           # Necessary to keep full_text \n",
        "                           # otherwise only the first 140 words are extracted\n",
        "                           tweet_mode = 'extended'\n",
        "                           )\n",
        "    if len(tweets) == 0:\n",
        "        break\n",
        "    oldest_id = tweets[-1].id\n",
        "    all_tweets.extend(tweets)\n",
        "    print('N of tweets downloaded till now {}'.format(len(all_tweets)))"
      ],
      "execution_count": 4,
      "outputs": [
        {
          "output_type": "stream",
          "text": [
            "N of tweets downloaded till now 394\n",
            "N of tweets downloaded till now 593\n",
            "N of tweets downloaded till now 792\n",
            "N of tweets downloaded till now 992\n",
            "N of tweets downloaded till now 1188\n",
            "N of tweets downloaded till now 1380\n",
            "N of tweets downloaded till now 1577\n",
            "N of tweets downloaded till now 1775\n",
            "N of tweets downloaded till now 1968\n",
            "N of tweets downloaded till now 2154\n"
          ],
          "name": "stdout"
        }
      ]
    },
    {
      "cell_type": "code",
      "metadata": {
        "colab": {
          "base_uri": "https://localhost:8080/"
        },
        "id": "gFLyugh25ARR",
        "outputId": "decef8c2-108b-4efc-e2e0-4f4d52fcf12d"
      },
      "source": [
        "!pip install xlsxwriter"
      ],
      "execution_count": 9,
      "outputs": [
        {
          "output_type": "stream",
          "text": [
            "Collecting xlsxwriter\n",
            "\u001b[?25l  Downloading https://files.pythonhosted.org/packages/2c/ce/74fd8d638a5b82ea0c6f08a5978f741c2655a38c3d6e82f73a0f084377e6/XlsxWriter-1.4.3-py2.py3-none-any.whl (149kB)\n",
            "\u001b[K     |████████████████████████████████| 153kB 3.2MB/s \n",
            "\u001b[?25hInstalling collected packages: xlsxwriter\n",
            "Successfully installed xlsxwriter-1.4.3\n"
          ],
          "name": "stdout"
        }
      ]
    },
    {
      "cell_type": "code",
      "metadata": {
        "id": "xGS5ZAvR3USE"
      },
      "source": [
        "import xlsxwriter\n",
        "\n",
        "#write to xlsx all accepted query\n",
        "workbook = xlsxwriter.Workbook('full_Anya Geraldine.xlsx') #nama orang nya ganti jadi nama author\n",
        "worksheet = workbook.add_worksheet()\n",
        "\n",
        "i = 0\n",
        "\n",
        "for tweet in all_tweets:\n",
        "  worksheet.write(i, 0, str(tweet))\n",
        "  if (i>=200):\n",
        "    break\n",
        "  i += 1\n",
        "\n",
        "workbook.close()"
      ],
      "execution_count": 10,
      "outputs": []
    },
    {
      "cell_type": "code",
      "metadata": {
        "id": "MUaq248X5fuX"
      },
      "source": [
        "#write to xlsx Uname, TweetID, Created at, and Tweet\n",
        "workbook = xlsxwriter.Workbook('clean_Anya Geraldine.xlsx') #nama orang nya ganti jadi nama author\n",
        "worksheet = workbook.add_worksheet()\n",
        "\n",
        "worksheet.write(0, 0, 'Username')\n",
        "worksheet.write(0, 1, 'TweetID')\n",
        "worksheet.write(0, 2, 'Created at')\n",
        "worksheet.write(0, 3, 'Tweet')\n",
        "\n",
        "i = 0\n",
        "\n",
        "for tweet in all_tweets:\n",
        "  worksheet.write(i, 0, 'Anyaselalubenar')     # ganti ke username ya\n",
        "  worksheet.write(i, 1, str(tweet.id))  \n",
        "  worksheet.write(i, 2, str(tweet.created_at))  \n",
        "  worksheet.write(i, 3, tweet.full_text)     \n",
        "  if (i>=200):\n",
        "    break\n",
        "  i += 1\n",
        "  \n",
        "workbook.close()"
      ],
      "execution_count": 11,
      "outputs": []
    },
    {
      "cell_type": "code",
      "metadata": {
        "id": "zvv7l1Xz5vWS"
      },
      "source": [
        ""
      ],
      "execution_count": null,
      "outputs": []
    }
  ]
}