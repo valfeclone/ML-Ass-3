{
  "nbformat": 4,
  "nbformat_minor": 0,
  "metadata": {
    "colab": {
      "name": "SVM.ipynb",
      "provenance": [],
      "include_colab_link": true
    },
    "kernelspec": {
      "display_name": "Python 3",
      "name": "python3"
    },
    "language_info": {
      "name": "python"
    }
  },
  "cells": [
    {
      "cell_type": "markdown",
      "metadata": {
        "id": "view-in-github",
        "colab_type": "text"
      },
      "source": [
        "<a href=\"https://colab.research.google.com/github/valfeclone/ML-Ass-3/blob/main/SVM.ipynb\" target=\"_parent\"><img src=\"https://colab.research.google.com/assets/colab-badge.svg\" alt=\"Open In Colab\"/></a>"
      ]
    },
    {
      "cell_type": "code",
      "metadata": {
        "id": "hk5U8EFrKYw4",
        "colab": {
          "base_uri": "https://localhost:8080/"
        },
        "outputId": "d27eb1b7-e8df-48ea-cdd6-dd974f8968e1"
      },
      "source": [
        "import pandas as pd\n",
        "import os\n",
        "from skimage.transform import resize\n",
        "from skimage.io import imread\n",
        "import numpy as np\n",
        "import matplotlib.pyplot as plt\n",
        "Categories=['dandelion','rose','sunflower']\n",
        "flat_data_arr=[] #input array\n",
        "target_arr=[] #output array\n",
        "\n",
        "from google.colab import drive\n",
        "drive.mount('/content/drive')\n",
        "datadir='/content/drive/MyDrive/dataset' \n",
        "#path which contains all the categories of images\n",
        "for i in Categories:\n",
        "    print(f'loading... category : {i}')\n",
        "    path=os.path.join(datadir,i)\n",
        "    for img in os.listdir(path):\n",
        "        img_array=imread(os.path.join(path,img))\n",
        "        img_resized=resize(img_array,(320,240,3))\n",
        "        flat_data_arr.append(img_resized.flatten())\n",
        "        target_arr.append(Categories.index(i))\n",
        "    print(f'loaded category:{i} successfully')\n",
        "flat_data=np.array(flat_data_arr)\n",
        "target=np.array(target_arr)\n",
        "df=pd.DataFrame(flat_data) #dataframe\n",
        "df['Target']=target\n",
        "x=df.iloc[:,:-1] #input data \n",
        "y=df.iloc[:,-1] #output data"
      ],
      "execution_count": 1,
      "outputs": [
        {
          "output_type": "stream",
          "text": [
            "Mounted at /content/drive\n",
            "loading... category : dandelion\n",
            "loaded category:dandelion successfully\n",
            "loading... category : rose\n",
            "loaded category:rose successfully\n",
            "loading... category : sunflower\n",
            "loaded category:sunflower successfully\n"
          ],
          "name": "stdout"
        }
      ]
    },
    {
      "cell_type": "code",
      "metadata": {
        "id": "0wKdsY9KOe1a"
      },
      "source": [
        "from sklearn import svm\n",
        "from sklearn.model_selection import GridSearchCV\n",
        "param_grid={'gamma':[0.0001], 'C':[1,10], 'kernel':['rbf']} #'C':[0.1,1,10,100],'gamma':[0.0001,0.001,0.1,1],\n",
        "svc=svm.SVC(probability=True)\n",
        "model=GridSearchCV(svc,param_grid)"
      ],
      "execution_count": 2,
      "outputs": []
    },
    {
      "cell_type": "code",
      "metadata": {
        "id": "aJdjv2lOPBgv",
        "colab": {
          "base_uri": "https://localhost:8080/"
        },
        "outputId": "710a6537-55f9-478e-832a-9cbb213eb8e1"
      },
      "source": [
        "from sklearn.model_selection import train_test_split\n",
        "x_train,x_test,y_train,y_test=train_test_split(x,y,test_size=0.20,random_state=77,stratify=y)\n",
        "print('Splitted Successfully')\n",
        "model.fit(x_train,y_train)\n",
        "print('The Model is trained well with the given images')\n",
        "# model.best_params_ contains the best parameters obtained from GridSearchCV"
      ],
      "execution_count": 3,
      "outputs": [
        {
          "output_type": "stream",
          "text": [
            "Splitted Successfully\n",
            "The Model is trained well with the given images\n"
          ],
          "name": "stdout"
        }
      ]
    },
    {
      "cell_type": "code",
      "metadata": {
        "id": "tV9ItWX-ZCFa",
        "colab": {
          "base_uri": "https://localhost:8080/"
        },
        "outputId": "ff1e6f2e-069c-4c3b-aa62-9142eda3fb37"
      },
      "source": [
        "model.best_params_"
      ],
      "execution_count": 4,
      "outputs": [
        {
          "output_type": "execute_result",
          "data": {
            "text/plain": [
              "{'C': 10, 'gamma': 0.0001, 'kernel': 'rbf'}"
            ]
          },
          "metadata": {
            "tags": []
          },
          "execution_count": 4
        }
      ]
    },
    {
      "cell_type": "code",
      "metadata": {
        "id": "Eth01SmGVnUt"
      },
      "source": [
        "from sklearn.metrics import accuracy_score"
      ],
      "execution_count": 5,
      "outputs": []
    },
    {
      "cell_type": "code",
      "metadata": {
        "id": "uabS5_NWO1Aj",
        "colab": {
          "base_uri": "https://localhost:8080/"
        },
        "outputId": "95f9a1e0-8466-4efd-9fec-f3ef3a12581e"
      },
      "source": [
        "y_pred=model.predict(x_test)\n",
        "print(\"The predicted Data is :\")\n",
        "print(y_pred)\n",
        "print(\"The actual data is:\")\n",
        "print(np.array(y_test))\n",
        "print(f\"The model is {accuracy_score(y_pred,y_test)*100}% accurate\")"
      ],
      "execution_count": 6,
      "outputs": [
        {
          "output_type": "stream",
          "text": [
            "The predicted Data is :\n",
            "[0 2 1 1 2 1 1 2 2 2 2 1 1 2 1 1 0 1 2 1 2 0 2 1 0 2 1 1 2 1 2 0 0 1 1 2 1\n",
            " 2 1 1 0 2 0 2 1 0 0 0 2 2 1 0 2 0 2 0 1 2 1 1]\n",
            "The actual data is:\n",
            "[0 2 1 2 1 1 0 0 0 2 2 1 1 2 0 1 0 0 2 2 2 0 0 1 2 1 1 1 2 1 2 0 0 1 1 2 2\n",
            " 1 0 1 1 0 0 2 1 0 0 0 2 2 1 1 0 0 2 2 0 2 2 1]\n",
            "The model is 65.0% accurate\n"
          ],
          "name": "stdout"
        }
      ]
    },
    {
      "cell_type": "code",
      "metadata": {
        "id": "bY5RgxqQW6sY",
        "colab": {
          "base_uri": "https://localhost:8080/"
        },
        "outputId": "e938608c-685d-43f8-86af-2b5aaf1c13d7"
      },
      "source": [
        "from sklearn.metrics import confusion_matrix\n",
        "confusion_matrix(y_test, y_pred, labels=None, sample_weight=None, normalize=None)"
      ],
      "execution_count": 7,
      "outputs": [
        {
          "output_type": "execute_result",
          "data": {
            "text/plain": [
              "array([[10,  5,  5],\n",
              "       [ 2, 15,  3],\n",
              "       [ 2,  4, 14]])"
            ]
          },
          "metadata": {
            "tags": []
          },
          "execution_count": 7
        }
      ]
    }
  ]
}